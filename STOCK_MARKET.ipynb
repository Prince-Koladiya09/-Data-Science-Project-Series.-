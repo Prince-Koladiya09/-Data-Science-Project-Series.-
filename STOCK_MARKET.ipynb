{
 "cells": [
  {
   "cell_type": "code",
   "execution_count": 46,
   "id": "d4e8e0c9-6188-46ae-80d9-996eb214dde0",
   "metadata": {},
   "outputs": [],
   "source": [
    "import pandas as pd\n",
    "import numpy as np\n",
    "import matplotlib.pyplot as plt\n",
    "import seaborn as sns\n",
    "from sklearn.model_selection import train_test_split,GridSearchCV,RandomizedSearchCV\n",
    "from sklearn.linear_model import LinearRegression,LogisticRegression\n",
    "from sklearn.ensemble import RandomForestClassifier,ExtraTreesClassifier\n",
    "from sklearn.tree import DecisionTreeClassifier\n",
    "from sklearn.svm import SVC\n",
    "from sklearn.preprocessing import StandardScaler\n"
   ]
  },
  {
   "cell_type": "markdown",
   "id": "9f856016-14c3-4d6a-a603-990c517f5b36",
   "metadata": {},
   "source": [
    "# Load the dataset\n"
   ]
  },
  {
   "cell_type": "code",
   "execution_count": null,
   "id": "c76dd31f-97cb-4943-a652-b02d40e719c9",
   "metadata": {},
   "outputs": [],
   "source": [
    "df=pd.read_csv('infolimpioavanzadoTarget.csv')\n",
    "df.head()"
   ]
  },
  {
   "cell_type": "code",
   "execution_count": 48,
   "id": "8bd59b51-49e3-4d4e-9b10-0af79ebcec62",
   "metadata": {},
   "outputs": [
    {
     "data": {
      "text/plain": [
       "(7781, 1285)"
      ]
     },
     "execution_count": 48,
     "metadata": {},
     "output_type": "execute_result"
    }
   ],
   "source": [
    "df.shape"
   ]
  },
  {
   "cell_type": "markdown",
   "id": "d61c24bd-3d36-4e62-abc8-a365919bdee5",
   "metadata": {},
   "source": [
    "# Display basic statistics of the dataset"
   ]
  },
  {
   "cell_type": "code",
   "execution_count": 49,
   "id": "d99f3644-4b36-48a6-9827-4c2c1c5a6b8d",
   "metadata": {},
   "outputs": [
    {
     "data": {
      "text/html": [
       "<div>\n",
       "<style scoped>\n",
       "    .dataframe tbody tr th:only-of-type {\n",
       "        vertical-align: middle;\n",
       "    }\n",
       "\n",
       "    .dataframe tbody tr th {\n",
       "        vertical-align: top;\n",
       "    }\n",
       "\n",
       "    .dataframe thead th {\n",
       "        text-align: right;\n",
       "    }\n",
       "</style>\n",
       "<table border=\"1\" class=\"dataframe\">\n",
       "  <thead>\n",
       "    <tr style=\"text-align: right;\">\n",
       "      <th></th>\n",
       "      <th>open</th>\n",
       "      <th>high</th>\n",
       "      <th>low</th>\n",
       "      <th>close</th>\n",
       "      <th>adjclose</th>\n",
       "      <th>volume</th>\n",
       "      <th>RSIadjclose15</th>\n",
       "      <th>RSIvolume15</th>\n",
       "      <th>RSIadjclose25</th>\n",
       "      <th>RSIvolume25</th>\n",
       "      <th>...</th>\n",
       "      <th>high-15</th>\n",
       "      <th>K-15</th>\n",
       "      <th>D-15</th>\n",
       "      <th>stochastic-k-15</th>\n",
       "      <th>stochastic-d-15</th>\n",
       "      <th>stochastic-kd-15</th>\n",
       "      <th>volumenrelativo</th>\n",
       "      <th>diff</th>\n",
       "      <th>INCREMENTO</th>\n",
       "      <th>TARGET</th>\n",
       "    </tr>\n",
       "  </thead>\n",
       "  <tbody>\n",
       "    <tr>\n",
       "      <th>count</th>\n",
       "      <td>7781.000000</td>\n",
       "      <td>7781.000000</td>\n",
       "      <td>7781.000000</td>\n",
       "      <td>7781.000000</td>\n",
       "      <td>7781.000000</td>\n",
       "      <td>7.781000e+03</td>\n",
       "      <td>7316.000000</td>\n",
       "      <td>7316.000000</td>\n",
       "      <td>7006.000000</td>\n",
       "      <td>7006.000000</td>\n",
       "      <td>...</td>\n",
       "      <td>7347.000000</td>\n",
       "      <td>7262.000000</td>\n",
       "      <td>7194.000000</td>\n",
       "      <td>7262.000000</td>\n",
       "      <td>7194.000000</td>\n",
       "      <td>7194.000000</td>\n",
       "      <td>7566.000000</td>\n",
       "      <td>7626.000000</td>\n",
       "      <td>7626.000000</td>\n",
       "      <td>7781.000000</td>\n",
       "    </tr>\n",
       "    <tr>\n",
       "      <th>mean</th>\n",
       "      <td>34.990220</td>\n",
       "      <td>35.655999</td>\n",
       "      <td>34.301243</td>\n",
       "      <td>34.964414</td>\n",
       "      <td>34.483147</td>\n",
       "      <td>7.586022e+05</td>\n",
       "      <td>46.817434</td>\n",
       "      <td>49.814790</td>\n",
       "      <td>46.966016</td>\n",
       "      <td>49.898659</td>\n",
       "      <td>...</td>\n",
       "      <td>37.947291</td>\n",
       "      <td>18.673824</td>\n",
       "      <td>18.704812</td>\n",
       "      <td>18.673824</td>\n",
       "      <td>18.704812</td>\n",
       "      <td>0.298413</td>\n",
       "      <td>inf</td>\n",
       "      <td>-0.259186</td>\n",
       "      <td>-2.674224</td>\n",
       "      <td>0.183010</td>\n",
       "    </tr>\n",
       "    <tr>\n",
       "      <th>std</th>\n",
       "      <td>99.841502</td>\n",
       "      <td>101.451058</td>\n",
       "      <td>98.073945</td>\n",
       "      <td>99.790823</td>\n",
       "      <td>98.603879</td>\n",
       "      <td>3.934491e+06</td>\n",
       "      <td>11.672838</td>\n",
       "      <td>5.002664</td>\n",
       "      <td>8.760961</td>\n",
       "      <td>3.420371</td>\n",
       "      <td>...</td>\n",
       "      <td>107.340294</td>\n",
       "      <td>75.723295</td>\n",
       "      <td>74.210933</td>\n",
       "      <td>75.723295</td>\n",
       "      <td>74.210933</td>\n",
       "      <td>14.661948</td>\n",
       "      <td>NaN</td>\n",
       "      <td>7.334250</td>\n",
       "      <td>268.268134</td>\n",
       "      <td>0.386699</td>\n",
       "    </tr>\n",
       "    <tr>\n",
       "      <th>min</th>\n",
       "      <td>0.410000</td>\n",
       "      <td>0.435000</td>\n",
       "      <td>0.405000</td>\n",
       "      <td>0.408000</td>\n",
       "      <td>0.408000</td>\n",
       "      <td>0.000000e+00</td>\n",
       "      <td>6.837461</td>\n",
       "      <td>35.303213</td>\n",
       "      <td>17.693637</td>\n",
       "      <td>39.520876</td>\n",
       "      <td>...</td>\n",
       "      <td>0.510000</td>\n",
       "      <td>-668.212635</td>\n",
       "      <td>-626.263336</td>\n",
       "      <td>-668.212635</td>\n",
       "      <td>-626.263336</td>\n",
       "      <td>-211.219037</td>\n",
       "      <td>0.000000</td>\n",
       "      <td>-90.538818</td>\n",
       "      <td>-23399.465955</td>\n",
       "      <td>0.000000</td>\n",
       "    </tr>\n",
       "    <tr>\n",
       "      <th>25%</th>\n",
       "      <td>4.050000</td>\n",
       "      <td>4.130000</td>\n",
       "      <td>3.980000</td>\n",
       "      <td>4.030000</td>\n",
       "      <td>3.960000</td>\n",
       "      <td>1.080000e+04</td>\n",
       "      <td>38.946316</td>\n",
       "      <td>47.182234</td>\n",
       "      <td>40.954487</td>\n",
       "      <td>48.266978</td>\n",
       "      <td>...</td>\n",
       "      <td>4.565000</td>\n",
       "      <td>6.153839</td>\n",
       "      <td>8.336837</td>\n",
       "      <td>6.153839</td>\n",
       "      <td>8.336837</td>\n",
       "      <td>-6.585432</td>\n",
       "      <td>0.637237</td>\n",
       "      <td>-0.417873</td>\n",
       "      <td>-4.494383</td>\n",
       "      <td>0.000000</td>\n",
       "    </tr>\n",
       "    <tr>\n",
       "      <th>50%</th>\n",
       "      <td>10.080000</td>\n",
       "      <td>10.110000</td>\n",
       "      <td>10.005000</td>\n",
       "      <td>10.080000</td>\n",
       "      <td>10.061000</td>\n",
       "      <td>8.406000e+04</td>\n",
       "      <td>46.259711</td>\n",
       "      <td>48.356834</td>\n",
       "      <td>46.459477</td>\n",
       "      <td>48.961162</td>\n",
       "      <td>...</td>\n",
       "      <td>10.640000</td>\n",
       "      <td>28.484828</td>\n",
       "      <td>28.478797</td>\n",
       "      <td>28.484828</td>\n",
       "      <td>28.478797</td>\n",
       "      <td>0.000000</td>\n",
       "      <td>1.000000</td>\n",
       "      <td>-0.025000</td>\n",
       "      <td>-0.304004</td>\n",
       "      <td>0.000000</td>\n",
       "    </tr>\n",
       "    <tr>\n",
       "      <th>75%</th>\n",
       "      <td>24.350000</td>\n",
       "      <td>24.500000</td>\n",
       "      <td>24.080000</td>\n",
       "      <td>24.250000</td>\n",
       "      <td>22.466007</td>\n",
       "      <td>6.724000e+05</td>\n",
       "      <td>54.061089</td>\n",
       "      <td>50.902284</td>\n",
       "      <td>52.289893</td>\n",
       "      <td>50.527067</td>\n",
       "      <td>...</td>\n",
       "      <td>25.170000</td>\n",
       "      <td>59.688404</td>\n",
       "      <td>58.664021</td>\n",
       "      <td>59.688404</td>\n",
       "      <td>58.664021</td>\n",
       "      <td>6.726947</td>\n",
       "      <td>1.655385</td>\n",
       "      <td>0.240000</td>\n",
       "      <td>2.812552</td>\n",
       "      <td>0.000000</td>\n",
       "    </tr>\n",
       "    <tr>\n",
       "      <th>max</th>\n",
       "      <td>795.739990</td>\n",
       "      <td>799.359985</td>\n",
       "      <td>784.960022</td>\n",
       "      <td>797.489990</td>\n",
       "      <td>783.376221</td>\n",
       "      <td>1.615550e+08</td>\n",
       "      <td>96.365095</td>\n",
       "      <td>99.622735</td>\n",
       "      <td>91.023108</td>\n",
       "      <td>97.782293</td>\n",
       "      <td>...</td>\n",
       "      <td>799.359985</td>\n",
       "      <td>100.000000</td>\n",
       "      <td>100.000000</td>\n",
       "      <td>100.000000</td>\n",
       "      <td>100.000000</td>\n",
       "      <td>198.156313</td>\n",
       "      <td>inf</td>\n",
       "      <td>120.256775</td>\n",
       "      <td>425.000000</td>\n",
       "      <td>1.000000</td>\n",
       "    </tr>\n",
       "  </tbody>\n",
       "</table>\n",
       "<p>8 rows × 1283 columns</p>\n",
       "</div>"
      ],
      "text/plain": [
       "              open         high          low        close     adjclose  \\\n",
       "count  7781.000000  7781.000000  7781.000000  7781.000000  7781.000000   \n",
       "mean     34.990220    35.655999    34.301243    34.964414    34.483147   \n",
       "std      99.841502   101.451058    98.073945    99.790823    98.603879   \n",
       "min       0.410000     0.435000     0.405000     0.408000     0.408000   \n",
       "25%       4.050000     4.130000     3.980000     4.030000     3.960000   \n",
       "50%      10.080000    10.110000    10.005000    10.080000    10.061000   \n",
       "75%      24.350000    24.500000    24.080000    24.250000    22.466007   \n",
       "max     795.739990   799.359985   784.960022   797.489990   783.376221   \n",
       "\n",
       "             volume  RSIadjclose15  RSIvolume15  RSIadjclose25  RSIvolume25  \\\n",
       "count  7.781000e+03    7316.000000  7316.000000    7006.000000  7006.000000   \n",
       "mean   7.586022e+05      46.817434    49.814790      46.966016    49.898659   \n",
       "std    3.934491e+06      11.672838     5.002664       8.760961     3.420371   \n",
       "min    0.000000e+00       6.837461    35.303213      17.693637    39.520876   \n",
       "25%    1.080000e+04      38.946316    47.182234      40.954487    48.266978   \n",
       "50%    8.406000e+04      46.259711    48.356834      46.459477    48.961162   \n",
       "75%    6.724000e+05      54.061089    50.902284      52.289893    50.527067   \n",
       "max    1.615550e+08      96.365095    99.622735      91.023108    97.782293   \n",
       "\n",
       "       ...      high-15         K-15         D-15  stochastic-k-15  \\\n",
       "count  ...  7347.000000  7262.000000  7194.000000      7262.000000   \n",
       "mean   ...    37.947291    18.673824    18.704812        18.673824   \n",
       "std    ...   107.340294    75.723295    74.210933        75.723295   \n",
       "min    ...     0.510000  -668.212635  -626.263336      -668.212635   \n",
       "25%    ...     4.565000     6.153839     8.336837         6.153839   \n",
       "50%    ...    10.640000    28.484828    28.478797        28.484828   \n",
       "75%    ...    25.170000    59.688404    58.664021        59.688404   \n",
       "max    ...   799.359985   100.000000   100.000000       100.000000   \n",
       "\n",
       "       stochastic-d-15  stochastic-kd-15  volumenrelativo         diff  \\\n",
       "count      7194.000000       7194.000000      7566.000000  7626.000000   \n",
       "mean         18.704812          0.298413              inf    -0.259186   \n",
       "std          74.210933         14.661948              NaN     7.334250   \n",
       "min        -626.263336       -211.219037         0.000000   -90.538818   \n",
       "25%           8.336837         -6.585432         0.637237    -0.417873   \n",
       "50%          28.478797          0.000000         1.000000    -0.025000   \n",
       "75%          58.664021          6.726947         1.655385     0.240000   \n",
       "max         100.000000        198.156313              inf   120.256775   \n",
       "\n",
       "         INCREMENTO       TARGET  \n",
       "count   7626.000000  7781.000000  \n",
       "mean      -2.674224     0.183010  \n",
       "std      268.268134     0.386699  \n",
       "min   -23399.465955     0.000000  \n",
       "25%       -4.494383     0.000000  \n",
       "50%       -0.304004     0.000000  \n",
       "75%        2.812552     0.000000  \n",
       "max      425.000000     1.000000  \n",
       "\n",
       "[8 rows x 1283 columns]"
      ]
     },
     "execution_count": 49,
     "metadata": {},
     "output_type": "execute_result"
    }
   ],
   "source": [
    "df.describe()"
   ]
  },
  {
   "cell_type": "markdown",
   "id": "c8b17f34-8634-4dd4-98c9-9ee33d963e1b",
   "metadata": {},
   "source": [
    "# Checking the data types and missing values"
   ]
  },
  {
   "cell_type": "markdown",
   "id": "0ccdeb76-b307-4d3a-ab34-4c5e0e584fb8",
   "metadata": {},
   "source": [
    "- > There are many NULL values in the dataset as following."
   ]
  },
  {
   "cell_type": "code",
   "execution_count": 143,
   "id": "4518eee3-e957-4ddd-93de-b7774d15ca46",
   "metadata": {},
   "outputs": [
    {
     "data": {
      "text/plain": [
       "date                  0\n",
       "open                  0\n",
       "high                  0\n",
       "low                   0\n",
       "close                 0\n",
       "                   ... \n",
       "stochastic-kd-15    587\n",
       "volumenrelativo     215\n",
       "diff                155\n",
       "INCREMENTO          155\n",
       "TARGET                0\n",
       "Length: 1285, dtype: int64"
      ]
     },
     "execution_count": 143,
     "metadata": {},
     "output_type": "execute_result"
    }
   ],
   "source": [
    "df.isnull().sum()"
   ]
  },
  {
   "cell_type": "code",
   "execution_count": 144,
   "id": "aca42b12-210d-4377-b0ec-e47aab3af32e",
   "metadata": {},
   "outputs": [
    {
     "data": {
      "text/html": [
       "<div>\n",
       "<style scoped>\n",
       "    .dataframe tbody tr th:only-of-type {\n",
       "        vertical-align: middle;\n",
       "    }\n",
       "\n",
       "    .dataframe tbody tr th {\n",
       "        vertical-align: top;\n",
       "    }\n",
       "\n",
       "    .dataframe thead th {\n",
       "        text-align: right;\n",
       "    }\n",
       "</style>\n",
       "<table border=\"1\" class=\"dataframe\">\n",
       "  <thead>\n",
       "    <tr style=\"text-align: right;\">\n",
       "      <th></th>\n",
       "      <th>date</th>\n",
       "      <th>open</th>\n",
       "      <th>high</th>\n",
       "      <th>low</th>\n",
       "      <th>close</th>\n",
       "      <th>adjclose</th>\n",
       "      <th>volume</th>\n",
       "      <th>ticker</th>\n",
       "      <th>RSIadjclose15</th>\n",
       "      <th>RSIvolume15</th>\n",
       "      <th>...</th>\n",
       "      <th>high-15</th>\n",
       "      <th>K-15</th>\n",
       "      <th>D-15</th>\n",
       "      <th>stochastic-k-15</th>\n",
       "      <th>stochastic-d-15</th>\n",
       "      <th>stochastic-kd-15</th>\n",
       "      <th>volumenrelativo</th>\n",
       "      <th>diff</th>\n",
       "      <th>INCREMENTO</th>\n",
       "      <th>TARGET</th>\n",
       "    </tr>\n",
       "  </thead>\n",
       "  <tbody>\n",
       "    <tr>\n",
       "      <th>0</th>\n",
       "      <td>False</td>\n",
       "      <td>False</td>\n",
       "      <td>False</td>\n",
       "      <td>False</td>\n",
       "      <td>False</td>\n",
       "      <td>False</td>\n",
       "      <td>False</td>\n",
       "      <td>False</td>\n",
       "      <td>True</td>\n",
       "      <td>True</td>\n",
       "      <td>...</td>\n",
       "      <td>True</td>\n",
       "      <td>True</td>\n",
       "      <td>True</td>\n",
       "      <td>True</td>\n",
       "      <td>True</td>\n",
       "      <td>True</td>\n",
       "      <td>False</td>\n",
       "      <td>False</td>\n",
       "      <td>False</td>\n",
       "      <td>False</td>\n",
       "    </tr>\n",
       "    <tr>\n",
       "      <th>1</th>\n",
       "      <td>False</td>\n",
       "      <td>False</td>\n",
       "      <td>False</td>\n",
       "      <td>False</td>\n",
       "      <td>False</td>\n",
       "      <td>False</td>\n",
       "      <td>False</td>\n",
       "      <td>False</td>\n",
       "      <td>True</td>\n",
       "      <td>True</td>\n",
       "      <td>...</td>\n",
       "      <td>True</td>\n",
       "      <td>True</td>\n",
       "      <td>True</td>\n",
       "      <td>True</td>\n",
       "      <td>True</td>\n",
       "      <td>True</td>\n",
       "      <td>False</td>\n",
       "      <td>False</td>\n",
       "      <td>False</td>\n",
       "      <td>False</td>\n",
       "    </tr>\n",
       "    <tr>\n",
       "      <th>2</th>\n",
       "      <td>False</td>\n",
       "      <td>False</td>\n",
       "      <td>False</td>\n",
       "      <td>False</td>\n",
       "      <td>False</td>\n",
       "      <td>False</td>\n",
       "      <td>False</td>\n",
       "      <td>False</td>\n",
       "      <td>True</td>\n",
       "      <td>True</td>\n",
       "      <td>...</td>\n",
       "      <td>True</td>\n",
       "      <td>True</td>\n",
       "      <td>True</td>\n",
       "      <td>True</td>\n",
       "      <td>True</td>\n",
       "      <td>True</td>\n",
       "      <td>False</td>\n",
       "      <td>False</td>\n",
       "      <td>False</td>\n",
       "      <td>False</td>\n",
       "    </tr>\n",
       "    <tr>\n",
       "      <th>3</th>\n",
       "      <td>False</td>\n",
       "      <td>False</td>\n",
       "      <td>False</td>\n",
       "      <td>False</td>\n",
       "      <td>False</td>\n",
       "      <td>False</td>\n",
       "      <td>False</td>\n",
       "      <td>False</td>\n",
       "      <td>True</td>\n",
       "      <td>True</td>\n",
       "      <td>...</td>\n",
       "      <td>True</td>\n",
       "      <td>True</td>\n",
       "      <td>True</td>\n",
       "      <td>True</td>\n",
       "      <td>True</td>\n",
       "      <td>True</td>\n",
       "      <td>False</td>\n",
       "      <td>False</td>\n",
       "      <td>False</td>\n",
       "      <td>False</td>\n",
       "    </tr>\n",
       "    <tr>\n",
       "      <th>4</th>\n",
       "      <td>False</td>\n",
       "      <td>False</td>\n",
       "      <td>False</td>\n",
       "      <td>False</td>\n",
       "      <td>False</td>\n",
       "      <td>False</td>\n",
       "      <td>False</td>\n",
       "      <td>False</td>\n",
       "      <td>True</td>\n",
       "      <td>True</td>\n",
       "      <td>...</td>\n",
       "      <td>True</td>\n",
       "      <td>True</td>\n",
       "      <td>True</td>\n",
       "      <td>True</td>\n",
       "      <td>True</td>\n",
       "      <td>True</td>\n",
       "      <td>False</td>\n",
       "      <td>False</td>\n",
       "      <td>False</td>\n",
       "      <td>False</td>\n",
       "    </tr>\n",
       "    <tr>\n",
       "      <th>...</th>\n",
       "      <td>...</td>\n",
       "      <td>...</td>\n",
       "      <td>...</td>\n",
       "      <td>...</td>\n",
       "      <td>...</td>\n",
       "      <td>...</td>\n",
       "      <td>...</td>\n",
       "      <td>...</td>\n",
       "      <td>...</td>\n",
       "      <td>...</td>\n",
       "      <td>...</td>\n",
       "      <td>...</td>\n",
       "      <td>...</td>\n",
       "      <td>...</td>\n",
       "      <td>...</td>\n",
       "      <td>...</td>\n",
       "      <td>...</td>\n",
       "      <td>...</td>\n",
       "      <td>...</td>\n",
       "      <td>...</td>\n",
       "      <td>...</td>\n",
       "    </tr>\n",
       "    <tr>\n",
       "      <th>7776</th>\n",
       "      <td>False</td>\n",
       "      <td>False</td>\n",
       "      <td>False</td>\n",
       "      <td>False</td>\n",
       "      <td>False</td>\n",
       "      <td>False</td>\n",
       "      <td>False</td>\n",
       "      <td>False</td>\n",
       "      <td>False</td>\n",
       "      <td>False</td>\n",
       "      <td>...</td>\n",
       "      <td>False</td>\n",
       "      <td>False</td>\n",
       "      <td>False</td>\n",
       "      <td>False</td>\n",
       "      <td>False</td>\n",
       "      <td>False</td>\n",
       "      <td>False</td>\n",
       "      <td>True</td>\n",
       "      <td>True</td>\n",
       "      <td>False</td>\n",
       "    </tr>\n",
       "    <tr>\n",
       "      <th>7777</th>\n",
       "      <td>False</td>\n",
       "      <td>False</td>\n",
       "      <td>False</td>\n",
       "      <td>False</td>\n",
       "      <td>False</td>\n",
       "      <td>False</td>\n",
       "      <td>False</td>\n",
       "      <td>False</td>\n",
       "      <td>False</td>\n",
       "      <td>False</td>\n",
       "      <td>...</td>\n",
       "      <td>False</td>\n",
       "      <td>False</td>\n",
       "      <td>False</td>\n",
       "      <td>False</td>\n",
       "      <td>False</td>\n",
       "      <td>False</td>\n",
       "      <td>False</td>\n",
       "      <td>True</td>\n",
       "      <td>True</td>\n",
       "      <td>False</td>\n",
       "    </tr>\n",
       "    <tr>\n",
       "      <th>7778</th>\n",
       "      <td>False</td>\n",
       "      <td>False</td>\n",
       "      <td>False</td>\n",
       "      <td>False</td>\n",
       "      <td>False</td>\n",
       "      <td>False</td>\n",
       "      <td>False</td>\n",
       "      <td>False</td>\n",
       "      <td>False</td>\n",
       "      <td>False</td>\n",
       "      <td>...</td>\n",
       "      <td>False</td>\n",
       "      <td>False</td>\n",
       "      <td>False</td>\n",
       "      <td>False</td>\n",
       "      <td>False</td>\n",
       "      <td>False</td>\n",
       "      <td>False</td>\n",
       "      <td>True</td>\n",
       "      <td>True</td>\n",
       "      <td>False</td>\n",
       "    </tr>\n",
       "    <tr>\n",
       "      <th>7779</th>\n",
       "      <td>False</td>\n",
       "      <td>False</td>\n",
       "      <td>False</td>\n",
       "      <td>False</td>\n",
       "      <td>False</td>\n",
       "      <td>False</td>\n",
       "      <td>False</td>\n",
       "      <td>False</td>\n",
       "      <td>False</td>\n",
       "      <td>False</td>\n",
       "      <td>...</td>\n",
       "      <td>False</td>\n",
       "      <td>False</td>\n",
       "      <td>False</td>\n",
       "      <td>False</td>\n",
       "      <td>False</td>\n",
       "      <td>False</td>\n",
       "      <td>False</td>\n",
       "      <td>True</td>\n",
       "      <td>True</td>\n",
       "      <td>False</td>\n",
       "    </tr>\n",
       "    <tr>\n",
       "      <th>7780</th>\n",
       "      <td>False</td>\n",
       "      <td>False</td>\n",
       "      <td>False</td>\n",
       "      <td>False</td>\n",
       "      <td>False</td>\n",
       "      <td>False</td>\n",
       "      <td>False</td>\n",
       "      <td>False</td>\n",
       "      <td>False</td>\n",
       "      <td>False</td>\n",
       "      <td>...</td>\n",
       "      <td>False</td>\n",
       "      <td>False</td>\n",
       "      <td>False</td>\n",
       "      <td>False</td>\n",
       "      <td>False</td>\n",
       "      <td>False</td>\n",
       "      <td>False</td>\n",
       "      <td>True</td>\n",
       "      <td>True</td>\n",
       "      <td>False</td>\n",
       "    </tr>\n",
       "  </tbody>\n",
       "</table>\n",
       "<p>7781 rows × 1285 columns</p>\n",
       "</div>"
      ],
      "text/plain": [
       "       date   open   high    low  close  adjclose  volume  ticker  \\\n",
       "0     False  False  False  False  False     False   False   False   \n",
       "1     False  False  False  False  False     False   False   False   \n",
       "2     False  False  False  False  False     False   False   False   \n",
       "3     False  False  False  False  False     False   False   False   \n",
       "4     False  False  False  False  False     False   False   False   \n",
       "...     ...    ...    ...    ...    ...       ...     ...     ...   \n",
       "7776  False  False  False  False  False     False   False   False   \n",
       "7777  False  False  False  False  False     False   False   False   \n",
       "7778  False  False  False  False  False     False   False   False   \n",
       "7779  False  False  False  False  False     False   False   False   \n",
       "7780  False  False  False  False  False     False   False   False   \n",
       "\n",
       "      RSIadjclose15  RSIvolume15  ...  high-15   K-15   D-15  stochastic-k-15  \\\n",
       "0              True         True  ...     True   True   True             True   \n",
       "1              True         True  ...     True   True   True             True   \n",
       "2              True         True  ...     True   True   True             True   \n",
       "3              True         True  ...     True   True   True             True   \n",
       "4              True         True  ...     True   True   True             True   \n",
       "...             ...          ...  ...      ...    ...    ...              ...   \n",
       "7776          False        False  ...    False  False  False            False   \n",
       "7777          False        False  ...    False  False  False            False   \n",
       "7778          False        False  ...    False  False  False            False   \n",
       "7779          False        False  ...    False  False  False            False   \n",
       "7780          False        False  ...    False  False  False            False   \n",
       "\n",
       "      stochastic-d-15  stochastic-kd-15  volumenrelativo   diff  INCREMENTO  \\\n",
       "0                True              True            False  False       False   \n",
       "1                True              True            False  False       False   \n",
       "2                True              True            False  False       False   \n",
       "3                True              True            False  False       False   \n",
       "4                True              True            False  False       False   \n",
       "...               ...               ...              ...    ...         ...   \n",
       "7776            False             False            False   True        True   \n",
       "7777            False             False            False   True        True   \n",
       "7778            False             False            False   True        True   \n",
       "7779            False             False            False   True        True   \n",
       "7780            False             False            False   True        True   \n",
       "\n",
       "      TARGET  \n",
       "0      False  \n",
       "1      False  \n",
       "2      False  \n",
       "3      False  \n",
       "4      False  \n",
       "...      ...  \n",
       "7776   False  \n",
       "7777   False  \n",
       "7778   False  \n",
       "7779   False  \n",
       "7780   False  \n",
       "\n",
       "[7781 rows x 1285 columns]"
      ]
     },
     "execution_count": 144,
     "metadata": {},
     "output_type": "execute_result"
    }
   ],
   "source": [
    "df.isnull()"
   ]
  },
  {
   "cell_type": "code",
   "execution_count": 51,
   "id": "cd6bffe0-0dfb-4550-a550-c273e672c8e6",
   "metadata": {},
   "outputs": [
    {
     "data": {
      "text/plain": [
       "<bound method DataFrame.corr of             date       open       high        low      close   adjclose  \\\n",
       "0     2022-01-03  17.799999  18.219000  17.500000  17.760000  17.760000   \n",
       "1     2022-01-04  17.700001  18.309999  17.620001  17.660000  17.660000   \n",
       "2     2022-01-05  17.580000  17.799999  16.910000  16.950001  16.950001   \n",
       "3     2022-01-06  16.650000  16.879999  16.139999  16.170000  16.170000   \n",
       "4     2022-01-07  16.219999  16.290001  15.630000  15.710000  15.710000   \n",
       "...          ...        ...        ...        ...        ...        ...   \n",
       "7776  2022-12-23  23.250000  23.540001  23.250000  23.290001  22.699928   \n",
       "7777  2022-12-27  23.350000  23.610001  23.250000  23.350000  22.758406   \n",
       "7778  2022-12-28  23.450001  23.570000  23.219999  23.350000  22.758406   \n",
       "7779  2022-12-29  23.330000  23.740000  23.330000  23.610001  23.011820   \n",
       "7780  2022-12-30  23.680000  23.760000  23.610001  23.610001  23.011820   \n",
       "\n",
       "      volume ticker  RSIadjclose15  RSIvolume15  ...    high-15       K-15  \\\n",
       "0     106600   ASLE            NaN          NaN  ...        NaN        NaN   \n",
       "1     128700   ASLE            NaN          NaN  ...        NaN        NaN   \n",
       "2     103100   ASLE            NaN          NaN  ...        NaN        NaN   \n",
       "3     173600   ASLE            NaN          NaN  ...        NaN        NaN   \n",
       "4     137800   ASLE            NaN          NaN  ...        NaN        NaN   \n",
       "...      ...    ...            ...          ...  ...        ...        ...   \n",
       "7776    4900   ATLO      60.782255    47.081752  ...  23.600000  26.223672   \n",
       "7777    9200   ATLO      62.022801    47.747952  ...  23.610001  30.764722   \n",
       "7778   15200   ATLO      62.022801    48.713225  ...  23.610001  30.764722   \n",
       "7779    7100   ATLO      67.186408    47.445460  ...  23.740000  46.457382   \n",
       "7780    7100   ATLO      67.186408    47.445460  ...  23.760000  45.784072   \n",
       "\n",
       "           D-15  stochastic-k-15  stochastic-d-15  stochastic-kd-15  \\\n",
       "0           NaN              NaN              NaN               NaN   \n",
       "1           NaN              NaN              NaN               NaN   \n",
       "2           NaN              NaN              NaN               NaN   \n",
       "3           NaN              NaN              NaN               NaN   \n",
       "4           NaN              NaN              NaN               NaN   \n",
       "...         ...              ...              ...               ...   \n",
       "7776  27.022465        26.223672        27.022465         -0.798793   \n",
       "7777  28.003602        30.764722        28.003602          2.761119   \n",
       "7778  29.251039        30.764722        29.251039          1.513683   \n",
       "7779  35.995609        46.457382        35.995609         10.461773   \n",
       "7780  41.002059        45.784072        41.002059          4.782013   \n",
       "\n",
       "      volumenrelativo      diff  INCREMENTO  TARGET  \n",
       "0            0.919758 -1.900001   -9.664295       0  \n",
       "1            1.110440 -1.379999   -7.247895       0  \n",
       "2            0.889560 -0.930000   -5.201344       0  \n",
       "3            1.497843 -0.360000   -2.177856       0  \n",
       "4            1.188956 -0.120000   -0.758054       0  \n",
       "...               ...       ...         ...     ...  \n",
       "7776         0.333333       NaN         NaN       0  \n",
       "7777         0.625850       NaN         NaN       0  \n",
       "7778         1.034014       NaN         NaN       0  \n",
       "7779         0.482993       NaN         NaN       0  \n",
       "7780         0.482993       NaN         NaN       0  \n",
       "\n",
       "[7781 rows x 1285 columns]>"
      ]
     },
     "execution_count": 51,
     "metadata": {},
     "output_type": "execute_result"
    }
   ],
   "source": [
    "df.corr"
   ]
  },
  {
   "cell_type": "code",
   "execution_count": 122,
   "id": "666dea62-4c1c-4641-a64d-ca98667b18de",
   "metadata": {},
   "outputs": [
    {
     "data": {
      "text/plain": [
       "0    0\n",
       "1    0\n",
       "2    0\n",
       "3    0\n",
       "4    0\n",
       "Name: TARGET, dtype: int64"
      ]
     },
     "execution_count": 122,
     "metadata": {},
     "output_type": "execute_result"
    }
   ],
   "source": [
    "feature=df.iloc[:,1:5]\n",
    "feature.head()\n",
    "target=df.TARGET\n",
    "target.head()"
   ]
  },
  {
   "cell_type": "markdown",
   "id": "d83e5111-dff0-4431-aa75-7e6a675c16f8",
   "metadata": {},
   "source": [
    "# Checking if any character or string type entries are there or not"
   ]
  },
  {
   "cell_type": "code",
   "execution_count": 123,
   "id": "8b4e4a25-a233-4ae7-a736-3f54fb29b50d",
   "metadata": {},
   "outputs": [
    {
     "data": {
      "text/plain": [
       "0       17.799999\n",
       "1       17.700001\n",
       "2       17.580000\n",
       "3       16.650000\n",
       "4       16.219999\n",
       "          ...    \n",
       "7776    23.250000\n",
       "7777    23.350000\n",
       "7778    23.450001\n",
       "7779    23.330000\n",
       "7780    23.680000\n",
       "Name: open, Length: 7781, dtype: float64"
      ]
     },
     "execution_count": 123,
     "metadata": {},
     "output_type": "execute_result"
    }
   ],
   "source": [
    "pd.to_numeric(df.open,errors='coerce')"
   ]
  },
  {
   "cell_type": "markdown",
   "id": "ad129775-dbe1-4dbc-9871-2a43be36571f",
   "metadata": {},
   "source": [
    "# Creating Correlation matrix"
   ]
  },
  {
   "cell_type": "code",
   "execution_count": 124,
   "id": "645ac485-5a5e-4211-ad98-ccd4eec284a2",
   "metadata": {},
   "outputs": [
    {
     "data": {
      "text/plain": [
       "[]"
      ]
     },
     "execution_count": 124,
     "metadata": {},
     "output_type": "execute_result"
    },
    {
     "data": {
      "image/png": "[encoded data removed]",
      "text/plain": [
       "<Figure size 1200x800 with 2 Axes>"
      ]
     },
     "metadata": {},
     "output_type": "display_data"
    }
   ],
   "source": [
    "plt.figure(figsize=(12, 8))\n",
    "g=sns.heatmap(feature.corr(),annot=True, cmap='coolwarm', linewidths=0.5)\n",
    "plt.title('Correlation Matrix')\n",
    "plt.plot()"
   ]
  },
  {
   "cell_type": "markdown",
   "id": "aa88404e-0556-4cb5-87cf-4af5c63a2f8a",
   "metadata": {},
   "source": [
    "# Checking the weight of selected features"
   ]
  },
  {
   "cell_type": "code",
   "execution_count": 125,
   "id": "14446d53-8764-4a01-8ed5-08f11166452d",
   "metadata": {},
   "outputs": [
    {
     "name": "stdout",
     "output_type": "stream",
     "text": [
      "[0.23970509 0.25658095 0.2495694  0.25414456]\n"
     ]
    }
   ],
   "source": [
    "model = ExtraTreesClassifier()\n",
    "model.fit(feature,target)\n",
    "print(model.feature_importances_)"
   ]
  },
  {
   "cell_type": "markdown",
   "id": "4da51ff8-f0ef-4dc4-80cc-19b024e557a9",
   "metadata": {},
   "source": [
    "# Graphical representation of weight"
   ]
  },
  {
   "cell_type": "code",
   "execution_count": 126,
   "id": "309b015f-053c-42bb-a218-a5ea1b5fe749",
   "metadata": {},
   "outputs": [
    {
     "data": {
      "image/png": "[encoded data removed]",
      "text/plain": [
       "<Figure size 640x480 with 1 Axes>"
      ]
     },
     "metadata": {},
     "output_type": "display_data"
    }
   ],
   "source": [
    "feat_importances = pd.Series(model.feature_importances_, index=feature.columns)\n",
    "feat_importances.nlargest(10).plot(kind='barh')\n",
    "plt.show()"
   ]
  },
  {
   "cell_type": "markdown",
   "id": "62a29832-1716-4825-996e-594c76ef7c1d",
   "metadata": {},
   "source": [
    "# Ploting box-plot for oberving outliers"
   ]
  },
  {
   "cell_type": "markdown",
   "id": "299b7e6e-d640-423f-94ff-91b0862f05ea",
   "metadata": {},
   "source": [
    "- > By observing the box-plot,we can that in the selected feature there are most of data is in the category of outlier.But as i am using RandomForestClassifier,outliers can easily be handled."
   ]
  },
  {
   "cell_type": "code",
   "execution_count": 127,
   "id": "95c16eb8-bee5-46bd-98fe-60953737a5e5",
   "metadata": {},
   "outputs": [
    {
     "data": {
      "image/png": "[encoded data removed]",
      "text/plain": [
       "<Figure size 400x400 with 1 Axes>"
      ]
     },
     "metadata": {},
     "output_type": "display_data"
    },
    {
     "data": {
      "image/png": "[encoded data removed]",
      "text/plain": [
       "<Figure size 400x400 with 1 Axes>"
      ]
     },
     "metadata": {},
     "output_type": "display_data"
    },
    {
     "data": {
      "image/png": "[encoded data removed]",
      "text/plain": [
       "<Figure size 400x400 with 1 Axes>"
      ]
     },
     "metadata": {},
     "output_type": "display_data"
    },
    {
     "data": {
      "image/png": "[encoded data removed]",
      "text/plain": [
       "<Figure size 400x400 with 1 Axes>"
      ]
     },
     "metadata": {},
     "output_type": "display_data"
    }
   ],
   "source": [
    "numerical_features = ['high','close','low','open']\n",
    "for feature in numerical_features:\n",
    "    plt.figure(figsize=(4, 4))\n",
    "    sns.boxplot(x='TARGET', y=feature, data=df)\n",
    "    plt.title(f'{feature} vs Output')\n",
    "    plt.show()"
   ]
  },
  {
   "cell_type": "markdown",
   "id": "04f9dca4-d24a-47e3-899b-ba1adab72c34",
   "metadata": {},
   "source": [
    "# Split the data into training and testing sets"
   ]
  },
  {
   "cell_type": "code",
   "execution_count": 130,
   "id": "9d472067-ded5-45b9-8dc2-12fc52bb0f86",
   "metadata": {},
   "outputs": [
    {
     "ename": "ValueError",
     "evalue": "Found input variables with inconsistent numbers of samples: [4, 7781]",
     "output_type": "error",
     "traceback": [
      "\u001b[1;31m---------------------------------------------------------------------------\u001b[0m",
      "\u001b[1;31mValueError\u001b[0m                                Traceback (most recent call last)",
      "Cell \u001b[1;32mIn[130], line 1\u001b[0m\n\u001b[1;32m----> 1\u001b[0m X_train, X_test, y_train, y_test\u001b[38;5;241m=\u001b[39mtrain_test_split(feature,target,test_size\u001b[38;5;241m=\u001b[39m\u001b[38;5;241m0.4\u001b[39m)\n",
      "File \u001b[1;32m~\\anaconda3\\Lib\\site-packages\\sklearn\\utils\\_param_validation.py:211\u001b[0m, in \u001b[0;36mvalidate_params.<locals>.decorator.<locals>.wrapper\u001b[1;34m(*args, **kwargs)\u001b[0m\n\u001b[0;32m    205\u001b[0m \u001b[38;5;28;01mtry\u001b[39;00m:\n\u001b[0;32m    206\u001b[0m     \u001b[38;5;28;01mwith\u001b[39;00m config_context(\n\u001b[0;32m    207\u001b[0m         skip_parameter_validation\u001b[38;5;241m=\u001b[39m(\n\u001b[0;32m    208\u001b[0m             prefer_skip_nested_validation \u001b[38;5;129;01mor\u001b[39;00m global_skip_validation\n\u001b[0;32m    209\u001b[0m         )\n\u001b[0;32m    210\u001b[0m     ):\n\u001b[1;32m--> 211\u001b[0m         \u001b[38;5;28;01mreturn\u001b[39;00m func(\u001b[38;5;241m*\u001b[39margs, \u001b[38;5;241m*\u001b[39m\u001b[38;5;241m*\u001b[39mkwargs)\n\u001b[0;32m    212\u001b[0m \u001b[38;5;28;01mexcept\u001b[39;00m InvalidParameterError \u001b[38;5;28;01mas\u001b[39;00m e:\n\u001b[0;32m    213\u001b[0m     \u001b[38;5;66;03m# When the function is just a wrapper around an estimator, we allow\u001b[39;00m\n\u001b[0;32m    214\u001b[0m     \u001b[38;5;66;03m# the function to delegate validation to the estimator, but we replace\u001b[39;00m\n\u001b[0;32m    215\u001b[0m     \u001b[38;5;66;03m# the name of the estimator by the name of the function in the error\u001b[39;00m\n\u001b[0;32m    216\u001b[0m     \u001b[38;5;66;03m# message to avoid confusion.\u001b[39;00m\n\u001b[0;32m    217\u001b[0m     msg \u001b[38;5;241m=\u001b[39m re\u001b[38;5;241m.\u001b[39msub(\n\u001b[0;32m    218\u001b[0m         \u001b[38;5;124mr\u001b[39m\u001b[38;5;124m\"\u001b[39m\u001b[38;5;124mparameter of \u001b[39m\u001b[38;5;124m\\\u001b[39m\u001b[38;5;124mw+ must be\u001b[39m\u001b[38;5;124m\"\u001b[39m,\n\u001b[0;32m    219\u001b[0m         \u001b[38;5;124mf\u001b[39m\u001b[38;5;124m\"\u001b[39m\u001b[38;5;124mparameter of \u001b[39m\u001b[38;5;132;01m{\u001b[39;00mfunc\u001b[38;5;241m.\u001b[39m\u001b[38;5;18m__qualname__\u001b[39m\u001b[38;5;132;01m}\u001b[39;00m\u001b[38;5;124m must be\u001b[39m\u001b[38;5;124m\"\u001b[39m,\n\u001b[0;32m    220\u001b[0m         \u001b[38;5;28mstr\u001b[39m(e),\n\u001b[0;32m    221\u001b[0m     )\n",
      "File \u001b[1;32m~\\anaconda3\\Lib\\site-packages\\sklearn\\model_selection\\_split.py:2614\u001b[0m, in \u001b[0;36mtrain_test_split\u001b[1;34m(test_size, train_size, random_state, shuffle, stratify, *arrays)\u001b[0m\n\u001b[0;32m   2611\u001b[0m \u001b[38;5;28;01mif\u001b[39;00m n_arrays \u001b[38;5;241m==\u001b[39m \u001b[38;5;241m0\u001b[39m:\n\u001b[0;32m   2612\u001b[0m     \u001b[38;5;28;01mraise\u001b[39;00m \u001b[38;5;167;01mValueError\u001b[39;00m(\u001b[38;5;124m\"\u001b[39m\u001b[38;5;124mAt least one array required as input\u001b[39m\u001b[38;5;124m\"\u001b[39m)\n\u001b[1;32m-> 2614\u001b[0m arrays \u001b[38;5;241m=\u001b[39m indexable(\u001b[38;5;241m*\u001b[39marrays)\n\u001b[0;32m   2616\u001b[0m n_samples \u001b[38;5;241m=\u001b[39m _num_samples(arrays[\u001b[38;5;241m0\u001b[39m])\n\u001b[0;32m   2617\u001b[0m n_train, n_test \u001b[38;5;241m=\u001b[39m _validate_shuffle_split(\n\u001b[0;32m   2618\u001b[0m     n_samples, test_size, train_size, default_test_size\u001b[38;5;241m=\u001b[39m\u001b[38;5;241m0.25\u001b[39m\n\u001b[0;32m   2619\u001b[0m )\n",
      "File \u001b[1;32m~\\anaconda3\\Lib\\site-packages\\sklearn\\utils\\validation.py:455\u001b[0m, in \u001b[0;36mindexable\u001b[1;34m(*iterables)\u001b[0m\n\u001b[0;32m    436\u001b[0m \u001b[38;5;250m\u001b[39m\u001b[38;5;124;03m\"\"\"Make arrays indexable for cross-validation.\u001b[39;00m\n\u001b[0;32m    437\u001b[0m \n\u001b[0;32m    438\u001b[0m \u001b[38;5;124;03mChecks consistent length, passes through None, and ensures that everything\u001b[39;00m\n\u001b[1;32m   (...)\u001b[0m\n\u001b[0;32m    451\u001b[0m \u001b[38;5;124;03m    sparse matrix, or dataframe) or `None`.\u001b[39;00m\n\u001b[0;32m    452\u001b[0m \u001b[38;5;124;03m\"\"\"\u001b[39;00m\n\u001b[0;32m    454\u001b[0m result \u001b[38;5;241m=\u001b[39m [_make_indexable(X) \u001b[38;5;28;01mfor\u001b[39;00m X \u001b[38;5;129;01min\u001b[39;00m iterables]\n\u001b[1;32m--> 455\u001b[0m check_consistent_length(\u001b[38;5;241m*\u001b[39mresult)\n\u001b[0;32m    456\u001b[0m \u001b[38;5;28;01mreturn\u001b[39;00m result\n",
      "File \u001b[1;32m~\\anaconda3\\Lib\\site-packages\\sklearn\\utils\\validation.py:409\u001b[0m, in \u001b[0;36mcheck_consistent_length\u001b[1;34m(*arrays)\u001b[0m\n\u001b[0;32m    407\u001b[0m uniques \u001b[38;5;241m=\u001b[39m np\u001b[38;5;241m.\u001b[39munique(lengths)\n\u001b[0;32m    408\u001b[0m \u001b[38;5;28;01mif\u001b[39;00m \u001b[38;5;28mlen\u001b[39m(uniques) \u001b[38;5;241m>\u001b[39m \u001b[38;5;241m1\u001b[39m:\n\u001b[1;32m--> 409\u001b[0m     \u001b[38;5;28;01mraise\u001b[39;00m \u001b[38;5;167;01mValueError\u001b[39;00m(\n\u001b[0;32m    410\u001b[0m         \u001b[38;5;124m\"\u001b[39m\u001b[38;5;124mFound input variables with inconsistent numbers of samples: \u001b[39m\u001b[38;5;132;01m%r\u001b[39;00m\u001b[38;5;124m\"\u001b[39m\n\u001b[0;32m    411\u001b[0m         \u001b[38;5;241m%\u001b[39m [\u001b[38;5;28mint\u001b[39m(l) \u001b[38;5;28;01mfor\u001b[39;00m l \u001b[38;5;129;01min\u001b[39;00m lengths]\n\u001b[0;32m    412\u001b[0m     )\n",
      "\u001b[1;31mValueError\u001b[0m: Found input variables with inconsistent numbers of samples: [4, 7781]"
     ]
    }
   ],
   "source": [
    "X_train, X_test, y_train, y_test=train_test_split(feature,target,test_size=0.4)"
   ]
  },
  {
   "cell_type": "markdown",
   "id": "7435fa6d-cdde-49ac-9a0c-1ff0ac455c03",
   "metadata": {},
   "source": [
    "# Create and train the RandomForestClassifier model"
   ]
  },
  {
   "cell_type": "markdown",
   "id": "61c0c543-19b5-4e88-849f-b5236caefe87",
   "metadata": {},
   "source": [
    "# Reason for using this model :\n",
    "\n",
    "- >Robustness to Overfitting : Random Forest reduces the risk of overfitting by aggregating the predictions of multiple decision trees.\n",
    "- >Robust to Noise :  Random Forests are less sensitive to noisy data.\n",
    "- >Parallelization : The training of individual trees in a Random Forest can be efficient for large datasets typical in stock market analysis."
   ]
  },
  {
   "cell_type": "code",
   "execution_count": 131,
   "id": "edaf6e3b-c3d5-4e04-94bf-211a2e9a3993",
   "metadata": {},
   "outputs": [
    {
     "data": {
      "text/plain": [
       "0.7877152402981239"
      ]
     },
     "execution_count": 131,
     "metadata": {},
     "output_type": "execute_result"
    }
   ],
   "source": [
    "model=RandomForestClassifier(n_estimators=100,criterion='gini',)\n",
    "model.fit(X_train,y_train)\n",
    "model.score(X_test,y_test)"
   ]
  },
  {
   "cell_type": "code",
   "execution_count": 140,
   "id": "85f84371-dd96-45d6-9412-159cae36568a",
   "metadata": {},
   "outputs": [
    {
     "name": "stderr",
     "output_type": "stream",
     "text": [
      "C:\\Users\\princ\\anaconda3\\Lib\\site-packages\\sklearn\\base.py:464: UserWarning: X does not have valid feature names, but RandomForestClassifier was fitted with feature names\n",
      "  warnings.warn(\n"
     ]
    },
    {
     "data": {
      "text/plain": [
       "array([0], dtype=int64)"
      ]
     },
     "execution_count": 140,
     "metadata": {},
     "output_type": "execute_result"
    }
   ],
   "source": [
    "predicts=[2.3,2.8,5.6,5.5]\n",
    "inputs=np.asarray(predicts).reshape(1,-1)\n",
    "model.predict(inputs)"
   ]
  },
  {
   "cell_type": "code",
   "execution_count": null,
   "id": "e30aa8df-c7c7-471c-8471-f8756ebcacbb",
   "metadata": {},
   "outputs": [],
   "source": []
  }
 ],
 "metadata": {
  "kernelspec": {
   "display_name": "Python 3 (ipykernel)",
   "language": "python",
   "name": "python3"
  },
  "language_info": {
   "codemirror_mode": {
    "name": "ipython",
    "version": 3
   },
   "file_extension": ".py",
   "mimetype": "text/x-python",
   "name": "python",
   "nbconvert_exporter": "python",
   "pygments_lexer": "ipython3",
   "version": "3.11.5"
  }
 },
 "nbformat": 4,
 "nbformat_minor": 5
}
